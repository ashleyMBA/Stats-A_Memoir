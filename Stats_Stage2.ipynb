{
 "cells": [
  {
   "cell_type": "markdown",
   "metadata": {},
   "source": [
    "# Stats Stage 2"
   ]
  },
  {
   "cell_type": "markdown",
   "metadata": {},
   "source": [
    "Topics:\n",
    "Continuous distribution\n",
    "Normal distribution\n",
    "Uniform distribution\n",
    "Exponential distribution\n",
    "\n",
    "Probability density function (PDF)\n",
    "Cumulative distribution fucntion (CDF)\n",
    "\n",
    "Sample mean\n",
    "Sample variance\n",
    "Sample standard deviation\n",
    "\n",
    "Definition of distribution mean, standard deviations/variance\n",
    "Properties of PDFs (probability density function) and CDFs (cumulative density function)\n",
    "Unbiased esimations of standard deviation/variance"
   ]
  },
  {
   "cell_type": "markdown",
   "metadata": {},
   "source": [
    "Graph samples of choose appropriate interval size)\n",
    "Normal (E(x) = 1, V(x) = 1, o(x)=1)\n",
    "\n",
    "Store 10,000- 100,000 points\n",
    "\n",
    "Graph f(x) = (1/sqrt(2pi)) * exp((-(x1)^2)/2)\n",
    "\n",
    "Graph f(b) = symbol(-infinity to b) f(x)dx\n",
    "\n",
    "where b for points b between -5 and 7\n",
    " calculate sample mean x 1 standard deviation"
   ]
  },
  {
   "cell_type": "code",
   "execution_count": 1,
   "metadata": {},
   "outputs": [
    {
     "data": {
      "text/html": [
       "<div>\n",
       "<style scoped>\n",
       "    .dataframe tbody tr th:only-of-type {\n",
       "        vertical-align: middle;\n",
       "    }\n",
       "\n",
       "    .dataframe tbody tr th {\n",
       "        vertical-align: top;\n",
       "    }\n",
       "\n",
       "    .dataframe thead th {\n",
       "        text-align: right;\n",
       "    }\n",
       "</style>\n",
       "<table border=\"1\" class=\"dataframe\">\n",
       "  <thead>\n",
       "    <tr style=\"text-align: right;\">\n",
       "      <th></th>\n",
       "      <th>Values</th>\n",
       "    </tr>\n",
       "  </thead>\n",
       "  <tbody>\n",
       "    <tr>\n",
       "      <td>count</td>\n",
       "      <td>50000.000000</td>\n",
       "    </tr>\n",
       "    <tr>\n",
       "      <td>mean</td>\n",
       "      <td>0.995853</td>\n",
       "    </tr>\n",
       "    <tr>\n",
       "      <td>std</td>\n",
       "      <td>0.999700</td>\n",
       "    </tr>\n",
       "    <tr>\n",
       "      <td>min</td>\n",
       "      <td>-3.251940</td>\n",
       "    </tr>\n",
       "    <tr>\n",
       "      <td>25%</td>\n",
       "      <td>0.318766</td>\n",
       "    </tr>\n",
       "    <tr>\n",
       "      <td>50%</td>\n",
       "      <td>0.995262</td>\n",
       "    </tr>\n",
       "    <tr>\n",
       "      <td>75%</td>\n",
       "      <td>1.671077</td>\n",
       "    </tr>\n",
       "    <tr>\n",
       "      <td>max</td>\n",
       "      <td>5.037879</td>\n",
       "    </tr>\n",
       "  </tbody>\n",
       "</table>\n",
       "</div>"
      ],
      "text/plain": [
       "             Values\n",
       "count  50000.000000\n",
       "mean       0.995853\n",
       "std        0.999700\n",
       "min       -3.251940\n",
       "25%        0.318766\n",
       "50%        0.995262\n",
       "75%        1.671077\n",
       "max        5.037879"
      ]
     },
     "execution_count": 1,
     "metadata": {},
     "output_type": "execute_result"
    }
   ],
   "source": [
    "import numpy as np\n",
    "import pandas as pd\n",
    "import seaborn as sb\n",
    "\n",
    "mu  = 1\n",
    "sigma = 1\n",
    "##  distribution with mean (mu) 1 and deviation (sigma) 1\n",
    "\n",
    "a = np.random.normal(size= 50000, loc = mu, scale = sigma)\n",
    "dfa = pd.DataFrame(a,columns=['Values'])\n",
    "\n",
    "dfa.describe()"
   ]
  },
  {
   "cell_type": "code",
   "execution_count": 3,
   "metadata": {},
   "outputs": [
    {
     "data": {
      "text/plain": [
       "[Text(0, 0.5, 'Frequency'), Text(0.5, 0, 'Normal Distribution')]"
      ]
     },
     "execution_count": 3,
     "metadata": {},
     "output_type": "execute_result"
    },
    {
     "data": {
      "image/png": "[encoded data removed]",
      "text/plain": [
       "<Figure size 432x288 with 1 Axes>"
      ]
     },
     "metadata": {
      "needs_background": "light"
     },
     "output_type": "display_data"
    }
   ],
   "source": [
    "charta = sb.distplot(dfa, bins = 100, color = 'green')\n",
    "\n",
    "charta.set(xlabel='Normal Distribution', ylabel = 'Frequency')"
   ]
  },
  {
   "cell_type": "code",
   "execution_count": null,
   "metadata": {},
   "outputs": [],
   "source": [
    "import math\n",
    "import matplotlib.pyplot as plt\n",
    "import numpy as np\n",
    "import pandas as pd\n",
    "\n",
    "dfc = pd.DataFrame(np.random.uniform(-10,10,size=(50000, 1)), columns=list('A'))\n",
    "dfc.head(10)\n",
    "\n",
    "\n",
    "y = []\n",
    "for value in dfc.index:\n",
    "    i = 0\n",
    "while i < 50000:\n",
    "    dfc.append = (1/(math.sqrt(2*pi)))*(exp(-dfc[(dfc['A']==A[i])**2]/2))\n",
    "    i = i + 1"
   ]
  }
 ],
 "metadata": {
  "kernelspec": {
   "display_name": "Python 3",
   "language": "python",
   "name": "python3"
  },
  "language_info": {
   "codemirror_mode": {
    "name": "ipython",
    "version": 3
   },
   "file_extension": ".py",
   "mimetype": "text/x-python",
   "name": "python",
   "nbconvert_exporter": "python",
   "pygments_lexer": "ipython3",
   "version": "3.7.4"
  }
 },
 "nbformat": 4,
 "nbformat_minor": 2
}
