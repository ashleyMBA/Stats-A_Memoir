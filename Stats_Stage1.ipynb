{
 "cells": [
  {
   "cell_type": "markdown",
   "metadata": {},
   "source": [
    "# Stats Stage 1"
   ]
  },
  {
   "cell_type": "markdown",
   "metadata": {},
   "source": [
    "Topics:\n",
    "Continuous distribution\n",
    "Normal distribution\n",
    "Uniform distribution\n",
    "Exponential distribution\n",
    "\n",
    "Probability denssity function (PDF)\n",
    "Cumulative distribution fucntion (CDF)\n",
    "\n",
    "Sample mean\n",
    "Sample variance/ Sample standard deviation\n",
    "\n",
    "Definition of distribution mean, standard deviations/variance\n",
    "\n",
    "Properties of PDFs and CDFs\n",
    "\n",
    "Unbiased esimations of standard deviation/variance"
   ]
  },
  {
   "cell_type": "markdown",
   "metadata": {},
   "source": [
    "Graph examples of Normal distribution:\n",
    "(E(x)=0, v(x)=1^2, 0(x)=1)"
   ]
  },
  {
   "cell_type": "markdown",
   "metadata": {},
   "source": [
    "Graph\n",
    "f(x) = 1/sqrt(2pi) * exp(-x^2/2)"
   ]
  },
  {
   "cell_type": "markdown",
   "metadata": {},
   "source": [
    "Graph\n",
    "F(b) = f^b f(x)d(x)\n",
    "with a start of -7 up to -infinity\n",
    "where for points b between -6 and 6\n",
    "store a table that shows b and F(b)\n",
    "\n",
    "calculate sample mean and standard deviation\n",
    "\n",
    "\n",
    "Percent of samples <= 1\n",
    "Percent of samples >= samples j\n",
    "Precent of samples in between -1 and 1\n",
    "\n",
    "F(1) = F(i)\n",
    "F(-1) = F(j)\n",
    "F(2) - f(O) = f(i) - f(j)"
   ]
  },
  {
   "cell_type": "code",
   "execution_count": 4,
   "metadata": {},
   "outputs": [
    {
     "data": {
      "text/html": [
       "<div>\n",
       "<style scoped>\n",
       "    .dataframe tbody tr th:only-of-type {\n",
       "        vertical-align: middle;\n",
       "    }\n",
       "\n",
       "    .dataframe tbody tr th {\n",
       "        vertical-align: top;\n",
       "    }\n",
       "\n",
       "    .dataframe thead th {\n",
       "        text-align: right;\n",
       "    }\n",
       "</style>\n",
       "<table border=\"1\" class=\"dataframe\">\n",
       "  <thead>\n",
       "    <tr style=\"text-align: right;\">\n",
       "      <th></th>\n",
       "      <th>Values</th>\n",
       "    </tr>\n",
       "  </thead>\n",
       "  <tbody>\n",
       "    <tr>\n",
       "      <td>count</td>\n",
       "      <td>50000.000000</td>\n",
       "    </tr>\n",
       "    <tr>\n",
       "      <td>mean</td>\n",
       "      <td>-0.011162</td>\n",
       "    </tr>\n",
       "    <tr>\n",
       "      <td>std</td>\n",
       "      <td>0.995694</td>\n",
       "    </tr>\n",
       "    <tr>\n",
       "      <td>min</td>\n",
       "      <td>-4.110664</td>\n",
       "    </tr>\n",
       "    <tr>\n",
       "      <td>25%</td>\n",
       "      <td>-0.685299</td>\n",
       "    </tr>\n",
       "    <tr>\n",
       "      <td>50%</td>\n",
       "      <td>-0.007668</td>\n",
       "    </tr>\n",
       "    <tr>\n",
       "      <td>75%</td>\n",
       "      <td>0.658571</td>\n",
       "    </tr>\n",
       "    <tr>\n",
       "      <td>max</td>\n",
       "      <td>3.789246</td>\n",
       "    </tr>\n",
       "  </tbody>\n",
       "</table>\n",
       "</div>"
      ],
      "text/plain": [
       "             Values\n",
       "count  50000.000000\n",
       "mean      -0.011162\n",
       "std        0.995694\n",
       "min       -4.110664\n",
       "25%       -0.685299\n",
       "50%       -0.007668\n",
       "75%        0.658571\n",
       "max        3.789246"
      ]
     },
     "execution_count": 4,
     "metadata": {},
     "output_type": "execute_result"
    }
   ],
   "source": [
    "##create an assortment of normally  distributed random numbers \n",
    "\n",
    "import numpy as np\n",
    "import pandas as pd\n",
    "\n",
    "e = np.random.normal(size= 50000)\n",
    "df = pd.DataFrame(e,columns=['Values'])\n",
    "\n",
    "df.describe()"
   ]
  },
  {
   "cell_type": "code",
   "execution_count": 5,
   "metadata": {},
   "outputs": [
    {
     "data": {
      "text/plain": [
       "(array([   28,   280,  1749,  6488, 13473, 15009,  9229,  3093,   572,\n",
       "           79], dtype=int64),\n",
       " array([-4.11066375, -3.32067281, -2.53068187, -1.74069093, -0.95069998,\n",
       "        -0.16070904,  0.6292819 ,  1.41927284,  2.20926379,  2.99925473,\n",
       "         3.78924567]))"
      ]
     },
     "execution_count": 5,
     "metadata": {},
     "output_type": "execute_result"
    }
   ],
   "source": [
    "np.histogram(df, bins=10)"
   ]
  },
  {
   "cell_type": "code",
   "execution_count": null,
   "metadata": {},
   "outputs": [],
   "source": []
  }
 ],
 "metadata": {
  "kernelspec": {
   "display_name": "Python 3",
   "language": "python",
   "name": "python3"
  },
  "language_info": {
   "codemirror_mode": {
    "name": "ipython",
    "version": 3
   },
   "file_extension": ".py",
   "mimetype": "text/x-python",
   "name": "python",
   "nbconvert_exporter": "python",
   "pygments_lexer": "ipython3",
   "version": "3.7.4"
  }
 },
 "nbformat": 4,
 "nbformat_minor": 2
}
